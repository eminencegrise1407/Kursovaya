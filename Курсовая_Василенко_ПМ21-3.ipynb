{
 "cells": [
  {
   "attachments": {},
   "cell_type": "markdown",
   "metadata": {},
   "source": [
    "Данная версия является устаревшей, так как новая версия у меня находится на ПК, к которому я в данный момент доступа не имею. Обновленная версия будет загружена на гитхаб в течение выходных."
   ]
  },
  {
   "attachments": {},
   "cell_type": "markdown",
   "metadata": {},
   "source": [
    "## Подключение Бибилотек"
   ]
  },
  {
   "cell_type": "code",
   "execution_count": 568,
   "metadata": {},
   "outputs": [],
   "source": [
    "import numpy as np\n",
    "import math\n",
    "import copy\n",
    "import tensorflow as tf\n",
    "from tensorflow import keras\n",
    "from tensorflow.keras import layers"
   ]
  },
  {
   "attachments": {},
   "cell_type": "markdown",
   "metadata": {},
   "source": [
    "## Разработка среды"
   ]
  },
  {
   "cell_type": "code",
   "execution_count": null,
   "metadata": {},
   "outputs": [],
   "source": [
    "# Гиперпараметры модели\n",
    "HEIGHT = 9\n",
    "WIDTH = 9\n",
    "MINES = 9"
   ]
  },
  {
   "cell_type": "code",
   "execution_count": 533,
   "metadata": {},
   "outputs": [],
   "source": [
    "class Minesweeper:\n",
    "    def __init__(self, height = 9, width = 9, mines = 9):\n",
    "        self.height = height\n",
    "        self.width = width\n",
    "        self.nummines = mines\n",
    "        self.reset()\n",
    "\n",
    "    def reset(self):\n",
    "        self.board = np.array([[' ' for i in range(self.width + 2)] for j in range(self.height + 2)])\n",
    "        self.done = False\n",
    "        self.reward = 0\n",
    "        self.moves = [i for i in range(self.height * self.width)] # все доступные ходы\n",
    "        self.mines = []\n",
    "\n",
    "    def findmines(self, row, col):\n",
    "        ''' Возвращает количество мин вокруг текущей клетки '''\n",
    "\n",
    "        # если в клетке мина, то возвращаем -1\n",
    "        if row * self.width + col in self.mines:\n",
    "            return -1\n",
    "        \n",
    "        nummines = 0\n",
    "        for row_offset in  [-1, 0, 1]:\n",
    "            for col_offset in [-1, 0, 1]:\n",
    "                if (row + row_offset) * self.width + (col + col_offset) in self.mines:\n",
    "                    nummines += 1\n",
    "        return nummines\n",
    "        \n",
    "    def step(self, move):\n",
    "        ''' Получение хода в качестве индекса и открытие клетки'''\n",
    "        \n",
    "        if move not in self.moves:\n",
    "            print('Такой ход сделать невозможно, делается случайный ход')\n",
    "            move = self.sample()\n",
    "\n",
    "        self.moves.remove(move)\n",
    "        # Рандомные позиции для мин на первом ходу\n",
    "        if len(self.moves) == self.height * self.width - 1:\n",
    "            self.mines = np.random.choice(self.moves, self.nummines, replace = False)\n",
    "\n",
    "        row, col = move // self.width, move % self.width\n",
    "        nummines = self.findmines(row, col)\n",
    "\n",
    "        if nummines == -1:\n",
    "            self.board[row + 1, col + 1] = '*'\n",
    "            self.reward = 0 # -1 вообще\n",
    "            self.done = True\n",
    "        else:\n",
    "            self.board[row + 1, col + 1] = str(nummines)\n",
    "        # рекурсивный вызов для открытия соседних клеток, если они еще не открыты, в случае если в клетке 0\n",
    "            if nummines == 0:\n",
    "                for row_offset in  [-1, 0, 1]:\n",
    "                    for col_offset in [-1, 0, 1]:\n",
    "                        if (row_offset, col_offset) == (0, 0):\n",
    "                            continue\n",
    "                        if row + row_offset + 1 in [0, self.height + 1] or col + col_offset + 1 in [0, self.width + 1]:\n",
    "                            continue    # чтобы не выйти за границы поля\n",
    "                        if (row + row_offset) * self.width + (col + col_offset) in self.moves:\n",
    "                            self.step((row + row_offset) * self.width + (col + col_offset))\n",
    "\n",
    "            # проверка на победу (количество оставшихся ходов равно количеству мин)\n",
    "            if  len(self.moves) == self.nummines:\n",
    "                self.reward = 1\n",
    "                self.done = True\n",
    "\n",
    "    def sample(self):\n",
    "        return np.random.choice(self.moves)\n",
    "    \n",
    "    def get_tensor_state(self):\n",
    "        ''' one hot encoding для состояния поля '''\n",
    "        miniboard = self.board[1:-1, 1:-1]\n",
    "        myboard = [np.array(miniboard == ' ', dtype = int).reshape(self.height, self.width)]\n",
    "\n",
    "        for i in range(9):\n",
    "            myboard.append(np.array(miniboard == 'i', dtype = int))\n",
    "        return tf.convert_to_tensor(myboard)\n",
    "\n",
    "    def render(self):\n",
    "        for rows in self.board[1:-1]:\n",
    "            print('|'.join(rows))\n",
    "    \n",
    "    def render_with_mines(self):\n",
    "        self.mineboard = copy.deepcopy(self.board)\n",
    "        for mine in self.mines:\n",
    "            self.board[mine // self.width + 1, mine % self.width + 1] = '* '\n",
    "        for rows in self.board[1:-1]:\n",
    "            print('|'.join(rows))"
   ]
  },
  {
   "attachments": {},
   "cell_type": "markdown",
   "metadata": {},
   "source": [
    "## Случайный агент"
   ]
  },
  {
   "cell_type": "code",
   "execution_count": 534,
   "metadata": {},
   "outputs": [],
   "source": [
    "def RandomAgent(state, moves):\n",
    "    '''Возвращает случайное действие из листа ходов'''\n",
    "    return np.random.choice(moves)"
   ]
  },
  {
   "cell_type": "code",
   "execution_count": 535,
   "metadata": {},
   "outputs": [],
   "source": [
    "def playgame(env, agent = RandomAgent, numgames = 100, verbose = False):\n",
    "    total_reward = 0\n",
    "    for game in range(numgames):\n",
    "        env.reset()\n",
    "        while not env.done:\n",
    "            move = agent(env.get_tensor_state(), env.moves)\n",
    "            env.step(move)\n",
    "            if verbose:\n",
    "                print('Move: ', move // 9, move % 9)\n",
    "                env.render()\n",
    "                print()\n",
    "\n",
    "        total_reward += env.reward\n",
    "    print(f'количество побед в {numgames} играх: {total_reward}')"
   ]
  },
  {
   "cell_type": "code",
   "execution_count": 536,
   "metadata": {},
   "outputs": [
    {
     "name": "stdout",
     "output_type": "stream",
     "text": [
      "количество побед в 100 играх: 79\n"
     ]
    }
   ],
   "source": [
    "playgame(env = Minesweeper(9, 9, 1), agent = RandomAgent, numgames = 100)"
   ]
  },
  {
   "cell_type": "code",
   "execution_count": 537,
   "metadata": {},
   "outputs": [
    {
     "name": "stdout",
     "output_type": "stream",
     "text": [
      "количество побед в 100 играх: 53\n"
     ]
    }
   ],
   "source": [
    "playgame(env = Minesweeper(9, 9, 2), agent = RandomAgent, numgames = 100)"
   ]
  },
  {
   "cell_type": "code",
   "execution_count": 538,
   "metadata": {},
   "outputs": [
    {
     "name": "stdout",
     "output_type": "stream",
     "text": [
      "количество побед в 100 играх: 0\n"
     ]
    }
   ],
   "source": [
    "playgame(env = Minesweeper(9, 9, 9), agent = RandomAgent, numgames = 100)"
   ]
  },
  {
   "attachments": {},
   "cell_type": "markdown",
   "metadata": {},
   "source": [
    "## Reinforcment learning"
   ]
  },
  {
   "attachments": {},
   "cell_type": "markdown",
   "metadata": {},
   "source": [
    "Q(s, a) - ожидаемая награда за ход a в состоянии s.\n",
    "\n",
    "Необходимо обучить модель, которая будет предсказывать вероятность следующего хода, когда ход не приводит к поражению.\n",
    "\n",
    "Вход: тензор состояния поля Сапера (где первый слой для доступных ходоа, 2-10 слои для мин, вокруг открытой клетки).\n",
    "\n",
    "Выход: значения Q(s, a) для всех возможных ходов.\n",
    "\n",
    "Цель: one-hot encoding для выбранной клетки."
   ]
  },
  {
   "cell_type": "code",
   "execution_count": 541,
   "metadata": {},
   "outputs": [],
   "source": [
    "env = Minesweeper(HEIGHT, WIDTH, MINES)\n",
    "\n",
    "model = keras.Sequential(\n",
    "    [\n",
    "        keras.Input(shape = (HEIGHT, WIDTH, 10)),\n",
    "        layers.Conv2D(32, kernel_size = (3, 3), activation=\"relu\"),\n",
    "        layers.Conv2D(64, kernel_size = (3, 3), activation=\"relu\"),\n",
    "        layers.Flatten(),\n",
    "        layers.Dense(HEIGHT * WIDTH, activation=\"softmax\"),\n",
    "    ]\n",
    ")"
   ]
  },
  {
   "cell_type": "code",
   "execution_count": 542,
   "metadata": {},
   "outputs": [
    {
     "name": "stdout",
     "output_type": "stream",
     "text": [
      "Model: \"sequential_6\"\n",
      "_________________________________________________________________\n",
      " Layer (type)                Output Shape              Param #   \n",
      "=================================================================\n",
      " conv2d_12 (Conv2D)          (None, 7, 7, 32)          2912      \n",
      "                                                                 \n",
      " conv2d_13 (Conv2D)          (None, 5, 5, 64)          18496     \n",
      "                                                                 \n",
      " flatten_6 (Flatten)         (None, 1600)              0         \n",
      "                                                                 \n",
      " dense_6 (Dense)             (None, 81)                129681    \n",
      "                                                                 \n",
      "=================================================================\n",
      "Total params: 151089 (590.19 KB)\n",
      "Trainable params: 151089 (590.19 KB)\n",
      "Non-trainable params: 0 (0.00 Byte)\n",
      "_________________________________________________________________\n"
     ]
    }
   ],
   "source": [
    "model.summary()"
   ]
  },
  {
   "cell_type": "code",
   "execution_count": 543,
   "metadata": {},
   "outputs": [],
   "source": [
    "def get_samples(model, numgames = 100):\n",
    "    ''' Генерация обучающих данных '''\n",
    "    x, y = [], []\n",
    "    env = Minesweeper(HEIGHT, WIDTH, MINES)\n",
    "    for game in range(numgames):\n",
    "        env.reset()\n",
    "        while not env.done:\n",
    "            cur_state = tf.transpose(env.get_tensor_state(), perm = [1, 2, 0])\n",
    "            move = RandomAgent(cur_state, env.moves)\n",
    "            env.step(move)\n",
    "\n",
    "            # Если накнулись на мину, то не добавляем в обучающие данные\n",
    "            if env.done and env.reward == 0:\n",
    "                continue\n",
    "            else:\n",
    "                x.append(cur_state)\n",
    "                y.append([1 if i == move else 0 for i in range(HEIGHT * WIDTH)])\n",
    "    return tf.convert_to_tensor(x), tf.convert_to_tensor(y)"
   ]
  },
  {
   "cell_type": "code",
   "execution_count": 544,
   "metadata": {},
   "outputs": [],
   "source": [
    "x_train, y_train = get_samples(model, numgames = 500)"
   ]
  },
  {
   "cell_type": "code",
   "execution_count": 545,
   "metadata": {},
   "outputs": [
    {
     "data": {
      "text/plain": [
       "(TensorShape([2091, 9, 9, 10]), TensorShape([2091, 81]))"
      ]
     },
     "execution_count": 545,
     "metadata": {},
     "output_type": "execute_result"
    }
   ],
   "source": [
    "x_train.shape, y_train.shape"
   ]
  },
  {
   "cell_type": "code",
   "execution_count": 546,
   "metadata": {},
   "outputs": [
    {
     "name": "stdout",
     "output_type": "stream",
     "text": [
      "Epoch 1/100\n",
      "118/118 [==============================] - 0s 2ms/step - loss: 4.3769 - accuracy: 0.0138 - val_loss: 4.3461 - val_accuracy: 0.0333\n",
      "Epoch 2/100\n",
      "118/118 [==============================] - 0s 2ms/step - loss: 4.1784 - accuracy: 0.0303 - val_loss: 4.3148 - val_accuracy: 0.0286\n",
      "Epoch 3/100\n",
      "118/118 [==============================] - 0s 2ms/step - loss: 3.9786 - accuracy: 0.0585 - val_loss: 4.3880 - val_accuracy: 0.0190\n",
      "Epoch 4/100\n",
      "118/118 [==============================] - 0s 2ms/step - loss: 3.7931 - accuracy: 0.0707 - val_loss: 4.5097 - val_accuracy: 0.0381\n",
      "Epoch 5/100\n",
      "118/118 [==============================] - 0s 2ms/step - loss: 3.6055 - accuracy: 0.1042 - val_loss: 4.7061 - val_accuracy: 0.0190\n",
      "Epoch 6/100\n",
      "118/118 [==============================] - 0s 2ms/step - loss: 3.4310 - accuracy: 0.1334 - val_loss: 4.8789 - val_accuracy: 0.0190\n",
      "Epoch 7/100\n",
      "118/118 [==============================] - 0s 2ms/step - loss: 3.2668 - accuracy: 0.1579 - val_loss: 4.9994 - val_accuracy: 0.0190\n",
      "Epoch 8/100\n",
      "118/118 [==============================] - 0s 2ms/step - loss: 3.1038 - accuracy: 0.1999 - val_loss: 5.3686 - val_accuracy: 0.0048\n",
      "Epoch 9/100\n",
      "118/118 [==============================] - 0s 2ms/step - loss: 2.9518 - accuracy: 0.2259 - val_loss: 5.5647 - val_accuracy: 0.0190\n",
      "Epoch 10/100\n",
      "118/118 [==============================] - 0s 2ms/step - loss: 2.8086 - accuracy: 0.2562 - val_loss: 5.8798 - val_accuracy: 0.0095\n",
      "Epoch 11/100\n",
      "118/118 [==============================] - 0s 2ms/step - loss: 2.6885 - accuracy: 0.2876 - val_loss: 6.0100 - val_accuracy: 0.0286\n",
      "Epoch 12/100\n",
      "118/118 [==============================] - 0s 2ms/step - loss: 2.5782 - accuracy: 0.3137 - val_loss: 6.4774 - val_accuracy: 0.0190\n",
      "Epoch 13/100\n",
      "118/118 [==============================] - 0s 2ms/step - loss: 2.4775 - accuracy: 0.3296 - val_loss: 6.5863 - val_accuracy: 0.0238\n",
      "Epoch 14/100\n",
      "118/118 [==============================] - 0s 2ms/step - loss: 2.3969 - accuracy: 0.3541 - val_loss: 6.7136 - val_accuracy: 0.0190\n",
      "Epoch 15/100\n",
      "118/118 [==============================] - 0s 2ms/step - loss: 2.3122 - accuracy: 0.3764 - val_loss: 7.0404 - val_accuracy: 0.0143\n",
      "Epoch 16/100\n",
      "118/118 [==============================] - 0s 2ms/step - loss: 2.2518 - accuracy: 0.3913 - val_loss: 7.1571 - val_accuracy: 0.0381\n",
      "Epoch 17/100\n",
      "118/118 [==============================] - 0s 2ms/step - loss: 2.1969 - accuracy: 0.4009 - val_loss: 7.2291 - val_accuracy: 0.0286\n",
      "Epoch 18/100\n",
      "118/118 [==============================] - 0s 2ms/step - loss: 2.1387 - accuracy: 0.4200 - val_loss: 7.4718 - val_accuracy: 0.0190\n",
      "Epoch 19/100\n",
      "118/118 [==============================] - 0s 2ms/step - loss: 2.0666 - accuracy: 0.4482 - val_loss: 7.6343 - val_accuracy: 0.0286\n",
      "Epoch 20/100\n",
      "118/118 [==============================] - 0s 2ms/step - loss: 2.0323 - accuracy: 0.4593 - val_loss: 7.8095 - val_accuracy: 0.0238\n",
      "Epoch 21/100\n",
      "118/118 [==============================] - 0s 2ms/step - loss: 1.9820 - accuracy: 0.4716 - val_loss: 8.1542 - val_accuracy: 0.0190\n",
      "Epoch 22/100\n",
      "118/118 [==============================] - 0s 2ms/step - loss: 1.9311 - accuracy: 0.4859 - val_loss: 8.2905 - val_accuracy: 0.0333\n",
      "Epoch 23/100\n",
      "118/118 [==============================] - 0s 2ms/step - loss: 1.9060 - accuracy: 0.4896 - val_loss: 8.2416 - val_accuracy: 0.0190\n",
      "Epoch 24/100\n",
      "118/118 [==============================] - 0s 2ms/step - loss: 1.8556 - accuracy: 0.5061 - val_loss: 8.5128 - val_accuracy: 0.0190\n",
      "Epoch 25/100\n",
      "118/118 [==============================] - 0s 2ms/step - loss: 1.8181 - accuracy: 0.5173 - val_loss: 8.5321 - val_accuracy: 0.0238\n",
      "Epoch 26/100\n",
      "118/118 [==============================] - 0s 2ms/step - loss: 1.8214 - accuracy: 0.5199 - val_loss: 8.8466 - val_accuracy: 0.0238\n",
      "Epoch 27/100\n",
      "118/118 [==============================] - 0s 2ms/step - loss: 1.7739 - accuracy: 0.5306 - val_loss: 8.9532 - val_accuracy: 0.0238\n",
      "Epoch 28/100\n",
      "118/118 [==============================] - 0s 2ms/step - loss: 1.7484 - accuracy: 0.5412 - val_loss: 9.0133 - val_accuracy: 0.0286\n",
      "Epoch 29/100\n",
      "118/118 [==============================] - 0s 2ms/step - loss: 1.7231 - accuracy: 0.5460 - val_loss: 9.1241 - val_accuracy: 0.0190\n",
      "Epoch 30/100\n",
      "118/118 [==============================] - 0s 2ms/step - loss: 1.6937 - accuracy: 0.5614 - val_loss: 9.4301 - val_accuracy: 0.0286\n",
      "Epoch 31/100\n",
      "118/118 [==============================] - 0s 2ms/step - loss: 1.6599 - accuracy: 0.5598 - val_loss: 9.5393 - val_accuracy: 0.0190\n",
      "Epoch 32/100\n",
      "118/118 [==============================] - 0s 2ms/step - loss: 1.6543 - accuracy: 0.5598 - val_loss: 9.4993 - val_accuracy: 0.0190\n",
      "Epoch 33/100\n",
      "118/118 [==============================] - 0s 2ms/step - loss: 1.6404 - accuracy: 0.5710 - val_loss: 9.5597 - val_accuracy: 0.0143\n",
      "Epoch 34/100\n",
      "118/118 [==============================] - 0s 2ms/step - loss: 1.6175 - accuracy: 0.5726 - val_loss: 9.5917 - val_accuracy: 0.0190\n",
      "Epoch 35/100\n",
      "118/118 [==============================] - 0s 2ms/step - loss: 1.5999 - accuracy: 0.5747 - val_loss: 9.8487 - val_accuracy: 0.0143\n",
      "Epoch 36/100\n",
      "118/118 [==============================] - 0s 2ms/step - loss: 1.5921 - accuracy: 0.5795 - val_loss: 9.7128 - val_accuracy: 0.0286\n",
      "Epoch 37/100\n",
      "118/118 [==============================] - 0s 2ms/step - loss: 1.5651 - accuracy: 0.5880 - val_loss: 10.0850 - val_accuracy: 0.0286\n",
      "Epoch 38/100\n",
      "118/118 [==============================] - 0s 2ms/step - loss: 1.5641 - accuracy: 0.5896 - val_loss: 10.3774 - val_accuracy: 0.0143\n",
      "Epoch 39/100\n",
      "118/118 [==============================] - 0s 2ms/step - loss: 1.5532 - accuracy: 0.5864 - val_loss: 10.0428 - val_accuracy: 0.0238\n",
      "Epoch 40/100\n",
      "118/118 [==============================] - 0s 2ms/step - loss: 1.5478 - accuracy: 0.5875 - val_loss: 10.4471 - val_accuracy: 0.0190\n",
      "Epoch 41/100\n",
      "118/118 [==============================] - 0s 2ms/step - loss: 1.5227 - accuracy: 0.5938 - val_loss: 10.2489 - val_accuracy: 0.0286\n",
      "Epoch 42/100\n",
      "118/118 [==============================] - 0s 2ms/step - loss: 1.5332 - accuracy: 0.5928 - val_loss: 10.2055 - val_accuracy: 0.0190\n",
      "Epoch 43/100\n",
      "118/118 [==============================] - 0s 2ms/step - loss: 1.5040 - accuracy: 0.5965 - val_loss: 10.3597 - val_accuracy: 0.0238\n",
      "Epoch 44/100\n",
      "118/118 [==============================] - 0s 2ms/step - loss: 1.4972 - accuracy: 0.6013 - val_loss: 10.4835 - val_accuracy: 0.0238\n",
      "Epoch 45/100\n",
      "118/118 [==============================] - 0s 2ms/step - loss: 1.4853 - accuracy: 0.6029 - val_loss: 10.8685 - val_accuracy: 0.0238\n",
      "Epoch 46/100\n",
      "118/118 [==============================] - 0s 2ms/step - loss: 1.4763 - accuracy: 0.6029 - val_loss: 10.7613 - val_accuracy: 0.0190\n",
      "Epoch 47/100\n",
      "118/118 [==============================] - 0s 2ms/step - loss: 1.4673 - accuracy: 0.6061 - val_loss: 11.0296 - val_accuracy: 0.0238\n",
      "Epoch 48/100\n",
      "118/118 [==============================] - 0s 2ms/step - loss: 1.4649 - accuracy: 0.6061 - val_loss: 11.0913 - val_accuracy: 0.0190\n",
      "Epoch 49/100\n",
      "118/118 [==============================] - 0s 2ms/step - loss: 1.4539 - accuracy: 0.6108 - val_loss: 11.0066 - val_accuracy: 0.0190\n",
      "Epoch 50/100\n",
      "118/118 [==============================] - 0s 2ms/step - loss: 1.4592 - accuracy: 0.6018 - val_loss: 10.8799 - val_accuracy: 0.0143\n",
      "Epoch 51/100\n",
      "118/118 [==============================] - 0s 2ms/step - loss: 1.4402 - accuracy: 0.6124 - val_loss: 11.0864 - val_accuracy: 0.0190\n",
      "Epoch 52/100\n",
      "118/118 [==============================] - 0s 2ms/step - loss: 1.4393 - accuracy: 0.6140 - val_loss: 11.1374 - val_accuracy: 0.0143\n",
      "Epoch 53/100\n",
      "118/118 [==============================] - 0s 2ms/step - loss: 1.4317 - accuracy: 0.6172 - val_loss: 11.3940 - val_accuracy: 0.0238\n",
      "Epoch 54/100\n",
      "118/118 [==============================] - 0s 2ms/step - loss: 1.4321 - accuracy: 0.6098 - val_loss: 11.1580 - val_accuracy: 0.0238\n",
      "Epoch 55/100\n",
      "118/118 [==============================] - 0s 2ms/step - loss: 1.4101 - accuracy: 0.6225 - val_loss: 11.3521 - val_accuracy: 0.0190\n",
      "Epoch 56/100\n",
      "118/118 [==============================] - 0s 2ms/step - loss: 1.4203 - accuracy: 0.6215 - val_loss: 11.0133 - val_accuracy: 0.0190\n",
      "Epoch 57/100\n",
      "118/118 [==============================] - 0s 2ms/step - loss: 1.4089 - accuracy: 0.6199 - val_loss: 11.3374 - val_accuracy: 0.0190\n",
      "Epoch 58/100\n",
      "118/118 [==============================] - 0s 2ms/step - loss: 1.4086 - accuracy: 0.6241 - val_loss: 11.6556 - val_accuracy: 0.0238\n",
      "Epoch 59/100\n",
      "118/118 [==============================] - 0s 2ms/step - loss: 1.4003 - accuracy: 0.6279 - val_loss: 11.5373 - val_accuracy: 0.0143\n",
      "Epoch 60/100\n",
      "118/118 [==============================] - 0s 2ms/step - loss: 1.3969 - accuracy: 0.6279 - val_loss: 11.2714 - val_accuracy: 0.0143\n",
      "Epoch 61/100\n",
      "118/118 [==============================] - 0s 2ms/step - loss: 1.4009 - accuracy: 0.6252 - val_loss: 11.3521 - val_accuracy: 0.0238\n",
      "Epoch 62/100\n",
      "118/118 [==============================] - 0s 2ms/step - loss: 1.4041 - accuracy: 0.6215 - val_loss: 11.3729 - val_accuracy: 0.0190\n",
      "Epoch 63/100\n",
      "118/118 [==============================] - 0s 2ms/step - loss: 1.4082 - accuracy: 0.6183 - val_loss: 11.5700 - val_accuracy: 0.0286\n",
      "Epoch 64/100\n",
      "118/118 [==============================] - 0s 2ms/step - loss: 1.3944 - accuracy: 0.6231 - val_loss: 11.4331 - val_accuracy: 0.0238\n",
      "Epoch 65/100\n",
      "118/118 [==============================] - 0s 2ms/step - loss: 1.3974 - accuracy: 0.6263 - val_loss: 11.4063 - val_accuracy: 0.0190\n",
      "Epoch 66/100\n",
      "118/118 [==============================] - 0s 2ms/step - loss: 1.4010 - accuracy: 0.6188 - val_loss: 11.2006 - val_accuracy: 0.0238\n",
      "Epoch 67/100\n",
      "118/118 [==============================] - 0s 2ms/step - loss: 1.3724 - accuracy: 0.6332 - val_loss: 11.4032 - val_accuracy: 0.0143\n",
      "Epoch 68/100\n",
      "118/118 [==============================] - 0s 2ms/step - loss: 1.3637 - accuracy: 0.6342 - val_loss: 11.6651 - val_accuracy: 0.0190\n",
      "Epoch 69/100\n",
      "118/118 [==============================] - 0s 2ms/step - loss: 1.3523 - accuracy: 0.6337 - val_loss: 11.2666 - val_accuracy: 0.0190\n",
      "Epoch 70/100\n",
      "118/118 [==============================] - 0s 2ms/step - loss: 1.3624 - accuracy: 0.6385 - val_loss: 11.8768 - val_accuracy: 0.0190\n",
      "Epoch 71/100\n",
      "118/118 [==============================] - 0s 2ms/step - loss: 1.3569 - accuracy: 0.6321 - val_loss: 11.7572 - val_accuracy: 0.0143\n",
      "Epoch 72/100\n",
      "118/118 [==============================] - 0s 2ms/step - loss: 1.3466 - accuracy: 0.6332 - val_loss: 11.7469 - val_accuracy: 0.0286\n",
      "Epoch 73/100\n",
      "118/118 [==============================] - 0s 3ms/step - loss: 1.3421 - accuracy: 0.6401 - val_loss: 11.7334 - val_accuracy: 0.0190\n",
      "Epoch 74/100\n",
      "118/118 [==============================] - 0s 2ms/step - loss: 1.3415 - accuracy: 0.6417 - val_loss: 12.0449 - val_accuracy: 0.0190\n",
      "Epoch 75/100\n",
      "118/118 [==============================] - 0s 2ms/step - loss: 1.3360 - accuracy: 0.6390 - val_loss: 12.3451 - val_accuracy: 0.0143\n",
      "Epoch 76/100\n",
      "118/118 [==============================] - 0s 2ms/step - loss: 1.3501 - accuracy: 0.6332 - val_loss: 11.6532 - val_accuracy: 0.0190\n",
      "Epoch 77/100\n",
      "118/118 [==============================] - 0s 2ms/step - loss: 1.3451 - accuracy: 0.6369 - val_loss: 12.3258 - val_accuracy: 0.0143\n",
      "Epoch 78/100\n",
      "118/118 [==============================] - 0s 2ms/step - loss: 1.3429 - accuracy: 0.6390 - val_loss: 11.5118 - val_accuracy: 0.0190\n",
      "Epoch 79/100\n",
      "118/118 [==============================] - 0s 2ms/step - loss: 1.3416 - accuracy: 0.6459 - val_loss: 12.0807 - val_accuracy: 0.0190\n",
      "Epoch 80/100\n",
      "118/118 [==============================] - 0s 2ms/step - loss: 1.3422 - accuracy: 0.6390 - val_loss: 12.0177 - val_accuracy: 0.0238\n",
      "Epoch 81/100\n",
      "118/118 [==============================] - 0s 2ms/step - loss: 1.3389 - accuracy: 0.6369 - val_loss: 12.0365 - val_accuracy: 0.0190\n",
      "Epoch 82/100\n",
      "118/118 [==============================] - 0s 2ms/step - loss: 1.3283 - accuracy: 0.6390 - val_loss: 12.0291 - val_accuracy: 0.0190\n",
      "Epoch 83/100\n",
      "118/118 [==============================] - 0s 2ms/step - loss: 1.3228 - accuracy: 0.6380 - val_loss: 12.3489 - val_accuracy: 0.0190\n",
      "Epoch 84/100\n",
      "118/118 [==============================] - 0s 2ms/step - loss: 1.3341 - accuracy: 0.6374 - val_loss: 12.2817 - val_accuracy: 0.0190\n",
      "Epoch 85/100\n",
      "118/118 [==============================] - 0s 2ms/step - loss: 1.3506 - accuracy: 0.6390 - val_loss: 11.5806 - val_accuracy: 0.0095\n",
      "Epoch 86/100\n",
      "118/118 [==============================] - 0s 2ms/step - loss: 1.3531 - accuracy: 0.6332 - val_loss: 11.6297 - val_accuracy: 0.0238\n",
      "Epoch 87/100\n",
      "118/118 [==============================] - 0s 2ms/step - loss: 1.3427 - accuracy: 0.6374 - val_loss: 12.0879 - val_accuracy: 0.0190\n",
      "Epoch 88/100\n",
      "118/118 [==============================] - 0s 2ms/step - loss: 1.3526 - accuracy: 0.6332 - val_loss: 11.6664 - val_accuracy: 0.0190\n",
      "Epoch 89/100\n",
      "118/118 [==============================] - 0s 2ms/step - loss: 1.3346 - accuracy: 0.6332 - val_loss: 11.9961 - val_accuracy: 0.0095\n",
      "Epoch 90/100\n",
      "118/118 [==============================] - 0s 2ms/step - loss: 1.3192 - accuracy: 0.6396 - val_loss: 12.0348 - val_accuracy: 0.0190\n",
      "Epoch 91/100\n",
      "118/118 [==============================] - 0s 2ms/step - loss: 1.3184 - accuracy: 0.6401 - val_loss: 11.9432 - val_accuracy: 0.0238\n",
      "Epoch 92/100\n",
      "118/118 [==============================] - 0s 2ms/step - loss: 1.3208 - accuracy: 0.6417 - val_loss: 11.6950 - val_accuracy: 0.0238\n",
      "Epoch 93/100\n",
      "118/118 [==============================] - 0s 2ms/step - loss: 1.3101 - accuracy: 0.6427 - val_loss: 12.2281 - val_accuracy: 0.0190\n",
      "Epoch 94/100\n",
      "118/118 [==============================] - 0s 2ms/step - loss: 1.3095 - accuracy: 0.6422 - val_loss: 12.4392 - val_accuracy: 0.0238\n",
      "Epoch 95/100\n",
      "118/118 [==============================] - 0s 2ms/step - loss: 1.3040 - accuracy: 0.6406 - val_loss: 12.4739 - val_accuracy: 0.0238\n",
      "Epoch 96/100\n",
      "118/118 [==============================] - 0s 2ms/step - loss: 1.2998 - accuracy: 0.6427 - val_loss: 12.5645 - val_accuracy: 0.0238\n",
      "Epoch 97/100\n",
      "118/118 [==============================] - 0s 2ms/step - loss: 1.2976 - accuracy: 0.6433 - val_loss: 12.3692 - val_accuracy: 0.0190\n",
      "Epoch 98/100\n",
      "118/118 [==============================] - 0s 2ms/step - loss: 1.2956 - accuracy: 0.6449 - val_loss: 12.5791 - val_accuracy: 0.0190\n",
      "Epoch 99/100\n",
      "118/118 [==============================] - 0s 2ms/step - loss: 1.3009 - accuracy: 0.6443 - val_loss: 12.2548 - val_accuracy: 0.0238\n",
      "Epoch 100/100\n",
      "118/118 [==============================] - 0s 2ms/step - loss: 1.2972 - accuracy: 0.6422 - val_loss: 12.2646 - val_accuracy: 0.0238\n"
     ]
    },
    {
     "data": {
      "text/plain": [
       "<keras.src.callbacks.History at 0x2d28b97e0>"
      ]
     },
     "execution_count": 546,
     "metadata": {},
     "output_type": "execute_result"
    }
   ],
   "source": [
    "model.compile(loss = \"categorical_crossentropy\", optimizer = \"adam\", metrics = [\"accuracy\"])\n",
    "\n",
    "model.fit(x_train, y_train, batch_size = 16, epochs = 100, validation_split = 0.1)"
   ]
  },
  {
   "cell_type": "code",
   "execution_count": 551,
   "metadata": {},
   "outputs": [],
   "source": [
    "def NNAgent(state, moves):\n",
    "    '''возвращает ход с наибольшей вероятностью из доступных ходов''' \n",
    "    probs = model(tf.reshape(env.get_tensor_state(), (1, HEIGHT, WIDTH, 10))).numpy().flatten()\n",
    "    probs[moves] += 1\n",
    "    return np.argmax(probs)"
   ]
  },
  {
   "cell_type": "code",
   "execution_count": 566,
   "metadata": {},
   "outputs": [
    {
     "name": "stdout",
     "output_type": "stream",
     "text": [
      "количество побед в 100 играх: 5\n"
     ]
    }
   ],
   "source": [
    "playgame(env = Minesweeper(HEIGHT, WIDTH, 5), agent = NNAgent, numgames = 100)"
   ]
  },
  {
   "cell_type": "code",
   "execution_count": 567,
   "metadata": {},
   "outputs": [
    {
     "name": "stdout",
     "output_type": "stream",
     "text": [
      "количество побед в 100 играх: 1\n"
     ]
    }
   ],
   "source": [
    "playgame(env = Minesweeper(HEIGHT, WIDTH, 5), agent = RandomAgent, numgames = 100)"
   ]
  },
  {
   "cell_type": "code",
   "execution_count": null,
   "metadata": {},
   "outputs": [],
   "source": []
  }
 ],
 "metadata": {
  "kernelspec": {
   "display_name": "Python 3",
   "language": "python",
   "name": "python3"
  },
  "language_info": {
   "codemirror_mode": {
    "name": "ipython",
    "version": 3
   },
   "file_extension": ".py",
   "mimetype": "text/x-python",
   "name": "python",
   "nbconvert_exporter": "python",
   "pygments_lexer": "ipython3",
   "version": "3.10.10"
  },
  "orig_nbformat": 4
 },
 "nbformat": 4,
 "nbformat_minor": 2
}
